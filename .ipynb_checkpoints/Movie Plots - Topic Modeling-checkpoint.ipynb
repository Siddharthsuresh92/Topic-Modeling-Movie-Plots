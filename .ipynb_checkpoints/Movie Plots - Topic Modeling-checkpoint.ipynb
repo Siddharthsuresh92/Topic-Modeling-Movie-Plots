{
 "cells": [
  {
   "cell_type": "code",
   "execution_count": 1,
   "metadata": {},
   "outputs": [
    {
     "name": "stderr",
     "output_type": "stream",
     "text": [
      "[nltk_data] Downloading package wordnet to\n",
      "[nltk_data]     /Users/siddharth/nltk_data...\n",
      "[nltk_data]   Package wordnet is already up-to-date!\n"
     ]
    }
   ],
   "source": [
    "import pandas as pd\n",
    "import numpy as np\n",
    "from pprint import pprint\n",
    "\n",
    "# used for pre-processing and modeling\n",
    "import gensim\n",
    "from gensim import models\n",
    "from gensim.utils import simple_preprocess\n",
    "from gensim.parsing.preprocessing import STOPWORDS\n",
    "from gensim.corpora import Dictionary\n",
    "from gensim.models import CoherenceModel\n",
    "\n",
    "# used for natural language processing {NLTK: Natural Language Tool-Kit} \n",
    "from nltk.stem import WordNetLemmatizer, SnowballStemmer, LancasterStemmer\n",
    "from nltk.stem.porter import *\n",
    "import nltk\n",
    "nltk.download('wordnet')\n",
    "import spacy\n",
    "\n",
    "# Visualization tools\n",
    "import pyLDAvis\n",
    "import pyLDAvis.gensim\n",
    "import matplotlib.pyplot as plt\n",
    "%matplotlib inline"
   ]
  },
  {
   "cell_type": "code",
   "execution_count": 2,
   "metadata": {},
   "outputs": [],
   "source": [
    "# Load dataset\n",
    "plots = pd.read_csv(\"wiki_movie_plots_deduped.csv\")"
   ]
  },
  {
   "cell_type": "markdown",
   "metadata": {},
   "source": [
    "## Model 1:\n",
    "\n",
    "1. WordNetLemmatizer\n",
    "2. TF-IDF\n",
    "3. LDAMulticore  "
   ]
  },
  {
   "cell_type": "code",
   "execution_count": 3,
   "metadata": {},
   "outputs": [],
   "source": [
    "# lemmatizer\n",
    "lemmatizer = WordNetLemmatizer()"
   ]
  },
  {
   "cell_type": "code",
   "execution_count": 4,
   "metadata": {},
   "outputs": [],
   "source": [
    "# function to lemmatize a given word\n",
    "def lemmatize(text):\n",
    "    return lemmatizer.lemmatize(text, pos = \"v\")\n",
    "\n",
    "\n",
    "# function to preprocess the text\n",
    "def preprocess(text):\n",
    "    result = []\n",
    "    for word in gensim.utils.simple_preprocess(text):\n",
    "        if word not in gensim.parsing.preprocessing.STOPWORDS and len(word) > 3:\n",
    "            l = lemmatize(word)\n",
    "            if len(l) > 3:\n",
    "                result.append(l)\n",
    "    return result"
   ]
  },
  {
   "cell_type": "code",
   "execution_count": 5,
   "metadata": {},
   "outputs": [
    {
     "data": {
      "text/plain": [
       "0        [bartender, work, saloon, serve, drink, custom...\n",
       "1        [moon, paint, smile, face, hang, park, night, ...\n",
       "2        [film, minute, long, compose, shots, girl, bas...\n",
       "3        [last, second, consist, shots, shoot, wood, wi...\n",
       "4        [earliest, know, adaptation, classic, fairytal...\n",
       "                               ...                        \n",
       "34881    [film, begin, world, centre, joshua, connor, r...\n",
       "34882    [musicians, salih, gürkan, describe, adventure...\n",
       "34883    [zafer, sailor, live, mother, döndü, coastal, ...\n",
       "34884    [film, centre, young, woman, name, tyler, book...\n",
       "34885    [writer, orhan, şahin, return, stanbul, years,...\n",
       "Name: Plot, Length: 34886, dtype: object"
      ]
     },
     "execution_count": 5,
     "metadata": {},
     "output_type": "execute_result"
    }
   ],
   "source": [
    "plots_processed = plots['Plot'].map(preprocess)\n",
    "plots_processed"
   ]
  },
  {
   "cell_type": "code",
   "execution_count": 164,
   "metadata": {},
   "outputs": [
    {
     "data": {
      "text/plain": [
       "115205"
      ]
     },
     "execution_count": 164,
     "metadata": {},
     "output_type": "execute_result"
    }
   ],
   "source": [
    "# Dictionary for LDA model\n",
    "plots_dict = Dictionary(plots_processed)\n",
    "len(plots_dict)"
   ]
  },
  {
   "cell_type": "code",
   "execution_count": 165,
   "metadata": {},
   "outputs": [
    {
     "data": {
      "text/plain": [
       "762"
      ]
     },
     "execution_count": 165,
     "metadata": {},
     "output_type": "execute_result"
    }
   ],
   "source": [
    "# Filter dictonary\n",
    "plots_dict.filter_extremes(no_below = 948, no_above = 0.5)\n",
    "len(plots_dict)"
   ]
  },
  {
   "cell_type": "code",
   "execution_count": 166,
   "metadata": {},
   "outputs": [],
   "source": [
    "l = []\n",
    "for k, v in plots_dict.iteritems():\n",
    "    l.append(v)"
   ]
  },
  {
   "cell_type": "code",
   "execution_count": 167,
   "metadata": {},
   "outputs": [],
   "source": [
    "freq_dict = plots_dict.dfs\n",
    "freq_df = pd.DataFrame.from_dict(freq_dict, orient = 'index', columns = ['Frequency']).reset_index()\n",
    "freq_df = freq_df.sort_values(by = 'index').reset_index()\n",
    "freq_df.drop(columns = ['level_0'], inplace = True)\n",
    "freq_df.insert(1, 'word', l)"
   ]
  },
  {
   "cell_type": "code",
   "execution_count": 168,
   "metadata": {},
   "outputs": [],
   "source": [
    "freq = freq_df.sort_values(by = 'Frequency')"
   ]
  },
  {
   "cell_type": "code",
   "execution_count": 170,
   "metadata": {},
   "outputs": [
    {
     "data": {
      "text/html": [
       "<div>\n",
       "<style scoped>\n",
       "    .dataframe tbody tr th:only-of-type {\n",
       "        vertical-align: middle;\n",
       "    }\n",
       "\n",
       "    .dataframe tbody tr th {\n",
       "        vertical-align: top;\n",
       "    }\n",
       "\n",
       "    .dataframe thead th {\n",
       "        text-align: right;\n",
       "    }\n",
       "</style>\n",
       "<table border=\"1\" class=\"dataframe\">\n",
       "  <thead>\n",
       "    <tr style=\"text-align: right;\">\n",
       "      <th></th>\n",
       "      <th>index</th>\n",
       "      <th>word</th>\n",
       "      <th>Frequency</th>\n",
       "    </tr>\n",
       "  </thead>\n",
       "  <tbody>\n",
       "    <tr>\n",
       "      <td>213</td>\n",
       "      <td>213</td>\n",
       "      <td>judge</td>\n",
       "      <td>948</td>\n",
       "    </tr>\n",
       "    <tr>\n",
       "      <td>385</td>\n",
       "      <td>385</td>\n",
       "      <td>retire</td>\n",
       "      <td>949</td>\n",
       "    </tr>\n",
       "    <tr>\n",
       "      <td>652</td>\n",
       "      <td>652</td>\n",
       "      <td>completely</td>\n",
       "      <td>951</td>\n",
       "    </tr>\n",
       "    <tr>\n",
       "      <td>409</td>\n",
       "      <td>409</td>\n",
       "      <td>obtain</td>\n",
       "      <td>951</td>\n",
       "    </tr>\n",
       "    <tr>\n",
       "      <td>130</td>\n",
       "      <td>130</td>\n",
       "      <td>violent</td>\n",
       "      <td>952</td>\n",
       "    </tr>\n",
       "    <tr>\n",
       "      <td>...</td>\n",
       "      <td>...</td>\n",
       "      <td>...</td>\n",
       "      <td>...</td>\n",
       "    </tr>\n",
       "    <tr>\n",
       "      <td>66</td>\n",
       "      <td>66</td>\n",
       "      <td>kill</td>\n",
       "      <td>12527</td>\n",
       "    </tr>\n",
       "    <tr>\n",
       "      <td>124</td>\n",
       "      <td>124</td>\n",
       "      <td>tell</td>\n",
       "      <td>12763</td>\n",
       "    </tr>\n",
       "    <tr>\n",
       "      <td>309</td>\n",
       "      <td>309</td>\n",
       "      <td>love</td>\n",
       "      <td>12785</td>\n",
       "    </tr>\n",
       "    <tr>\n",
       "      <td>54</td>\n",
       "      <td>54</td>\n",
       "      <td>take</td>\n",
       "      <td>14272</td>\n",
       "    </tr>\n",
       "    <tr>\n",
       "      <td>10</td>\n",
       "      <td>10</td>\n",
       "      <td>leave</td>\n",
       "      <td>15012</td>\n",
       "    </tr>\n",
       "  </tbody>\n",
       "</table>\n",
       "<p>762 rows × 3 columns</p>\n",
       "</div>"
      ],
      "text/plain": [
       "     index        word  Frequency\n",
       "213    213       judge        948\n",
       "385    385      retire        949\n",
       "652    652  completely        951\n",
       "409    409      obtain        951\n",
       "130    130     violent        952\n",
       "..     ...         ...        ...\n",
       "66      66        kill      12527\n",
       "124    124        tell      12763\n",
       "309    309        love      12785\n",
       "54      54        take      14272\n",
       "10      10       leave      15012\n",
       "\n",
       "[762 rows x 3 columns]"
      ]
     },
     "execution_count": 170,
     "metadata": {},
     "output_type": "execute_result"
    }
   ],
   "source": [
    "freq"
   ]
  },
  {
   "cell_type": "code",
   "execution_count": 171,
   "metadata": {},
   "outputs": [],
   "source": [
    "# Bag of words and TFIDF\n",
    "bag_of_words = [plots_dict.doc2bow(plot) for plot in plots_processed]\n",
    "tfidf = models.TfidfModel(bag_of_words)\n",
    "corpus_tfidf = tfidf[bag_of_words]"
   ]
  },
  {
   "cell_type": "code",
   "execution_count": 172,
   "metadata": {},
   "outputs": [
    {
     "name": "stdout",
     "output_type": "stream",
     "text": [
      "Topic: 0 \n",
      "Words: 0.008*\"affair\" + 0.008*\"husband\" + 0.007*\"wife\" + 0.007*\"david\" + 0.007*\"divorce\" + 0.006*\"mother\" + 0.006*\"family\" + 0.006*\"love\" + 0.006*\"relationship\" + 0.006*\"home\"\n",
      "\n",
      "Topic: 1 \n",
      "Words: 0.021*\"school\" + 0.019*\"students\" + 0.018*\"team\" + 0.014*\"student\" + 0.010*\"high\" + 0.010*\"game\" + 0.009*\"college\" + 0.009*\"professor\" + 0.007*\"teacher\" + 0.006*\"government\"\n",
      "\n",
      "Topic: 2 \n",
      "Words: 0.017*\"police\" + 0.012*\"kill\" + 0.012*\"gang\" + 0.011*\"murder\" + 0.009*\"officer\" + 0.008*\"inspector\" + 0.008*\"case\" + 0.007*\"jail\" + 0.007*\"arrest\" + 0.007*\"prison\"\n",
      "\n",
      "Topic: 3 \n",
      "Words: 0.008*\"kill\" + 0.008*\"body\" + 0.007*\"killer\" + 0.007*\"house\" + 0.006*\"spirit\" + 0.006*\"police\" + 0.005*\"murder\" + 0.005*\"tell\" + 0.005*\"woman\" + 0.004*\"room\"\n",
      "\n",
      "Topic: 4 \n",
      "Words: 0.013*\"love\" + 0.012*\"marry\" + 0.011*\"village\" + 0.011*\"family\" + 0.010*\"father\" + 0.009*\"story\" + 0.009*\"marriage\" + 0.008*\"mother\" + 0.008*\"life\" + 0.008*\"daughter\"\n",
      "\n",
      "Topic: 5 \n",
      "Words: 0.016*\"michael\" + 0.012*\"peter\" + 0.010*\"park\" + 0.009*\"hotel\" + 0.007*\"money\" + 0.006*\"charles\" + 0.006*\"store\" + 0.006*\"room\" + 0.006*\"phone\" + 0.005*\"work\"\n",
      "\n",
      "Topic: 6 \n",
      "Words: 0.027*\"sing\" + 0.012*\"music\" + 0.010*\"film\" + 0.010*\"song\" + 0.009*\"singer\" + 0.008*\"band\" + 0.008*\"club\" + 0.008*\"dance\" + 0.008*\"young\" + 0.007*\"play\"\n",
      "\n",
      "Topic: 7 \n",
      "Words: 0.028*\"king\" + 0.011*\"minister\" + 0.009*\"army\" + 0.008*\"kill\" + 0.007*\"battle\" + 0.006*\"defeat\" + 0.006*\"power\" + 0.006*\"fight\" + 0.006*\"village\" + 0.006*\"rule\"\n",
      "\n",
      "Topic: 8 \n",
      "Words: 0.012*\"earth\" + 0.010*\"island\" + 0.009*\"soldier\" + 0.009*\"ship\" + 0.008*\"destroy\" + 0.008*\"battle\" + 0.007*\"attack\" + 0.006*\"military\" + 0.006*\"army\" + 0.006*\"group\"\n",
      "\n",
      "Topic: 9 \n",
      "Words: 0.017*\"lord\" + 0.016*\"girls\" + 0.013*\"mary\" + 0.012*\"boys\" + 0.011*\"india\" + 0.010*\"lady\" + 0.009*\"school\" + 0.008*\"master\" + 0.008*\"teacher\" + 0.008*\"story\"\n",
      "\n"
     ]
    }
   ],
   "source": [
    "# LDA Multicore model using the tf-idf corpus\n",
    "lda_tfidf = gensim.models.LdaMulticore(corpus_tfidf, num_topics=10, id2word=plots_dict, passes=2, workers=1, \n",
    "                                       random_state = 2020)\n",
    "\n",
    "for idx, topic in lda_tfidf.print_topics(-1):\n",
    "    print('Topic: {} \\nWords: {}\\n'.format(idx, topic))"
   ]
  },
  {
   "cell_type": "code",
   "execution_count": 173,
   "metadata": {},
   "outputs": [
    {
     "data": {
      "text/plain": [
       "0.43321389786906456"
      ]
     },
     "execution_count": 173,
     "metadata": {},
     "output_type": "execute_result"
    }
   ],
   "source": [
    "# Model measure of performance\n",
    "cm = CoherenceModel(model = lda_tfidf, texts = plots_processed, dictionary = plots_dict)\n",
    "cm.get_coherence()"
   ]
  },
  {
   "cell_type": "code",
   "execution_count": 42,
   "metadata": {},
   "outputs": [
    {
     "name": "stderr",
     "output_type": "stream",
     "text": [
      "/opt/anaconda3/lib/python3.7/site-packages/pyLDAvis/_prepare.py:257: FutureWarning: Sorting because non-concatenation axis is not aligned. A future version\n",
      "of pandas will change to not sort by default.\n",
      "\n",
      "To accept the future behavior, pass 'sort=False'.\n",
      "\n",
      "To retain the current behavior and silence the warning, pass 'sort=True'.\n",
      "\n",
      "  return pd.concat([default_term_info] + list(topic_dfs))\n"
     ]
    }
   ],
   "source": [
    "# Visualization\n",
    "vis = pyLDAvis.gensim.prepare(lda_tfidf, corpus_tfidf, plots_dict)\n",
    "pyLDAvis"
   ]
  }
 ],
 "metadata": {
  "kernelspec": {
   "display_name": "Python 3",
   "language": "python",
   "name": "python3"
  },
  "language_info": {
   "codemirror_mode": {
    "name": "ipython",
    "version": 3
   },
   "file_extension": ".py",
   "mimetype": "text/x-python",
   "name": "python",
   "nbconvert_exporter": "python",
   "pygments_lexer": "ipython3",
   "version": "3.7.4"
  }
 },
 "nbformat": 4,
 "nbformat_minor": 2
}
