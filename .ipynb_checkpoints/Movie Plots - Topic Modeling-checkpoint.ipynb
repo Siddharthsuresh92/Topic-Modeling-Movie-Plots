{
 "cells": [
  {
   "cell_type": "code",
   "execution_count": 14,
   "metadata": {},
   "outputs": [
    {
     "name": "stderr",
     "output_type": "stream",
     "text": [
      "[nltk_data] Downloading package wordnet to\n",
      "[nltk_data]     /Users/siddharth/nltk_data...\n",
      "[nltk_data]   Package wordnet is already up-to-date!\n"
     ]
    }
   ],
   "source": [
    "import pandas as pd\n",
    "import numpy as np\n",
    "from pprint import pprint\n",
    "\n",
    "# used for pre-processing and modeling\n",
    "import gensim\n",
    "from gensim import models\n",
    "from gensim.utils import simple_preprocess\n",
    "from gensim.parsing.preprocessing import STOPWORDS\n",
    "from gensim.corpora import Dictionary\n",
    "from gensim.models import CoherenceModel\n",
    "\n",
    "# used for natural language processing {NLTK: Natural Language Tool-Kit} \n",
    "from nltk.stem import WordNetLemmatizer, SnowballStemmer, LancasterStemmer\n",
    "from nltk.stem.porter import *\n",
    "import nltk\n",
    "nltk.download('wordnet')\n",
    "import spacy\n",
    "\n",
    "# Visualization tools\n",
    "import pyLDAvis\n",
    "import pyLDAvis.gensim\n",
    "import matplotlib.pyplot as plt\n",
    "%matplotlib inline"
   ]
  },
  {
   "cell_type": "code",
   "execution_count": 15,
   "metadata": {},
   "outputs": [],
   "source": [
    "# Load dataset\n",
    "plots = pd.read_csv(\"wiki_movie_plots_deduped.csv\")"
   ]
  },
  {
   "cell_type": "markdown",
   "metadata": {},
   "source": [
    "## Model 1:\n",
    "\n",
    "1. WordNetLemmatizer\n",
    "2. TF-IDF\n",
    "3. LDAMulticore  "
   ]
  },
  {
   "cell_type": "code",
   "execution_count": 16,
   "metadata": {},
   "outputs": [],
   "source": [
    "# lemmatizer\n",
    "lemmatizer = WordNetLemmatizer()"
   ]
  },
  {
   "cell_type": "code",
   "execution_count": 17,
   "metadata": {},
   "outputs": [],
   "source": [
    "# function to lemmatize a given word\n",
    "def lemmatize(text):\n",
    "    return lemmatizer.lemmatize(text, pos = \"v\")\n",
    "\n",
    "\n",
    "# function to preprocess the text\n",
    "def preprocess(text):\n",
    "    result = []\n",
    "    for word in gensim.utils.simple_preprocess(text):\n",
    "        if word not in gensim.parsing.preprocessing.STOPWORDS and len(word) > 3:\n",
    "            l = lemmatize(word)\n",
    "            if len(l) > 3:\n",
    "                result.append(l)\n",
    "    return result"
   ]
  },
  {
   "cell_type": "code",
   "execution_count": 18,
   "metadata": {},
   "outputs": [
    {
     "data": {
      "text/plain": [
       "0        [bartender, work, saloon, serve, drink, customers, fill, stereotypically, irish, bucket, beer, carrie, nation, followers, burst, inside, assault, irish, pull, dump, beer, head, group, begin, wreck, smash, fixtures, mirror, break, cash, register, bartender, spray, seltzer, water, nation, face, group, policemen, appear, order, everybody, leave]                                                                                                                                                                                                                                                                                                                                                                                                                                                                            \n",
       "1        [moon, paint, smile, face, hang, park, night, young, couple, walk, past, fence, learn, rail, look, moon, smile, embrace, moon, smile, bigger, bench, tree, moon, view, block, cause, frown, scene, woman, moon, leave, perch, shoulder, better]                                                                                                                                                                                                                                                                                                                                                                                                                                                                                                                                                                                     \n",
       "2        [film, minute, long, compose, shots, girl, base, altar, tomb, face, hide, camera, center, altar, view, portal, display, portraits, presidents, abraham, lincoln, garfield, william, mckinley, victims, assassination, second, shoot, second, long, assassin, kneel, feet, lady, justice]                                                                                                                                                                                                                                                                                                                                                                                                                                                                                                                                            \n",
       "3        [last, second, consist, shots, shoot, wood, winter, actor, represent, vice, president, theodore, roosevelt, hurry, hillside, tree, foreground, fall, right, cock, rifle, bear, sign, read, photographer, press, agent, respectively, follow, shoot, photographer, camera, teddy, rifle, upward, tree, fell, appear, common, house, proceed, stab, teddy, hold, prize, aloft, press, agent, take, note, second, shoot, take, slightly, different, wood, path, teddy, path, horse, camera, leave, shoot, follow, closely, press, agent, photographer, dutifully, hold, sign]                                                                                                                                                                                                                                                          \n",
       "4        [earliest, know, adaptation, classic, fairytale, film, show, jack, trade, bean, mother, force, drop, yard, beig, force, upstairs, sleep, jack, visit, fairy, show, glimpse, await, ascend, bean, stalk, version, jack, depose, king, jack, wake, find, beanstalk, grow, climb, enter, giant, home, giant, find, jack, narrowly, escape, giant, chase, jack, bean, stalk, jack, able, giant, safety, fall, kill, jack, celebrate, fairy, reveal, jack, return, home, prince]                                                                                                                                                                                                                                                                                                                                                         \n",
       "                                                                                                                                                                                                                                            ...                                                                                                                                                                                                                                                                                                                                                                                                                                                                                                                                                                                              \n",
       "34881    [film, begin, world, centre, joshua, connor, russell, crowe, australian, farmer, water, diviner, sons, arthur, ryan, corr, edward, fraser, henry, toole, serve, australian, zealand, army, corps, anzac, military, campaign, gallipoli, years, previously, presume, dead, wife, eliza, jacqueline, mckenzie, commit, suicide, grief, joshua, resolve, bring, sons, body, home, bury, mother, joshua, travel, turkey, stay, hotel, istanbul, widow, ayshe, olga, kurylenko, unable, travel, gallipoli, road, learn, purpose, journey, ayshe, tell, bribe, local, fisherman, travel, gallipoli, boat, arrive, joshua, learn, anzacs, engage, mass, burial, civilians, major, hasan, yılmaz, erdoğan, turkish, officer, assist, anzacs, persuade, anzac, captain, cyril, hughes, courtney, prioritize, help, joshua, search, find, ...]\n",
       "34882    [musicians, salih, gürkan, describe, adventure, cousins]                                                                                                                                                                                                                                                                                                                                                                                                                                                                                                                                                                                                                                                                                                                                                                            \n",
       "34883    [zafer, sailor, live, mother, döndü, coastal, village, izmir, separate, girlfriend, mehtap, father, sailor, döndü, friend, fahriye, help, zafer, marry, family, famous, talented, actress, aslı, surprisingly, attend, zafer, boat, tour, asli, zafer, know]                                                                                                                                                                                                                                                                                                                                                                                                                                                                                                                                                                        \n",
       "34884    [film, centre, young, woman, name, tyler, book, surprise, holiday, europe, boyfriend, josh, merit, separate, able, trip, advertise, ticket, online, search, identical, boyfriend, tour, instead, story, write, bore, similarities, case, year, toronto, name, jordan, axani, offer, free, ticket, reddit, girl, name, elizabeth, gallagher, break, girlfriend, ticket, strict, transfer, policy, passport, information, require, book, ticket, buzzfeed, article, story, viral, script, give, life, brendan, bradley, write, script, years, bradley, tell, happen, unrealistic, project, traction, think, premise, crazy, happen, real, life]                                                                                                                                                                                       \n",
       "34885    [writer, orhan, şahin, return, stanbul, years, help, know, director, deniz, soysal, write, novel, orhan, find, look, nostalgia, place, bear, raise, relive, relationships, friends, family, past, love]                                                                                                                                                                                                                                                                                                                                                                                                                                                                                                                                                                                                                             \n",
       "Name: Plot, Length: 34886, dtype: object"
      ]
     },
     "execution_count": 18,
     "metadata": {},
     "output_type": "execute_result"
    }
   ],
   "source": [
    "plots_processed = plots['Plot'].map(preprocess)\n",
    "plots_processed"
   ]
  },
  {
   "cell_type": "code",
   "execution_count": 19,
   "metadata": {},
   "outputs": [
    {
     "data": {
      "text/plain": [
       "115205"
      ]
     },
     "execution_count": 19,
     "metadata": {},
     "output_type": "execute_result"
    }
   ],
   "source": [
    "# Dictionary for LDA model\n",
    "plots_dict = Dictionary(plots_processed)\n",
    "len(plots_dict)"
   ]
  },
  {
   "cell_type": "code",
   "execution_count": 20,
   "metadata": {},
   "outputs": [
    {
     "data": {
      "text/plain": [
       "1457"
      ]
     },
     "execution_count": 20,
     "metadata": {},
     "output_type": "execute_result"
    }
   ],
   "source": [
    "# Filter dictonary\n",
    "plots_dict.filter_extremes(no_below = 500, no_above = 0.5)\n",
    "len(plots_dict)"
   ]
  },
  {
   "cell_type": "code",
   "execution_count": 21,
   "metadata": {},
   "outputs": [],
   "source": [
    "# Bag of words and TFIDF\n",
    "bag_of_words = [plots_dict.doc2bow(plot) for plot in plots_processed]\n",
    "tfidf = models.TfidfModel(bag_of_words)\n",
    "corpus_tfidf = tfidf[bag_of_words]"
   ]
  },
  {
   "cell_type": "code",
   "execution_count": 22,
   "metadata": {},
   "outputs": [
    {
     "name": "stdout",
     "output_type": "stream",
     "text": [
      "Topic: 0 \n",
      "Words: 0.012*\"school\" + 0.007*\"student\" + 0.007*\"film\" + 0.007*\"life\" + 0.006*\"story\" + 0.006*\"students\" + 0.006*\"family\" + 0.006*\"teacher\" + 0.005*\"young\" + 0.005*\"college\"\n",
      "\n",
      "Topic: 1 \n",
      "Words: 0.012*\"king\" + 0.009*\"earth\" + 0.006*\"power\" + 0.005*\"island\" + 0.005*\"battle\" + 0.005*\"destroy\" + 0.005*\"ship\" + 0.005*\"defeat\" + 0.005*\"kingdom\" + 0.005*\"queen\"\n",
      "\n",
      "Topic: 2 \n",
      "Words: 0.005*\"house\" + 0.005*\"ghost\" + 0.005*\"tell\" + 0.004*\"body\" + 0.004*\"kill\" + 0.004*\"room\" + 0.004*\"home\" + 0.004*\"mother\" + 0.004*\"night\" + 0.004*\"leave\"\n",
      "\n",
      "Topic: 3 \n",
      "Words: 0.011*\"marry\" + 0.010*\"love\" + 0.009*\"marriage\" + 0.008*\"family\" + 0.008*\"father\" + 0.007*\"daughter\" + 0.007*\"mother\" + 0.005*\"sister\" + 0.005*\"house\" + 0.005*\"girl\"\n",
      "\n",
      "Topic: 4 \n",
      "Words: 0.028*\"village\" + 0.012*\"villagers\" + 0.008*\"lord\" + 0.007*\"family\" + 0.007*\"temple\" + 0.007*\"story\" + 0.006*\"kill\" + 0.006*\"brothers\" + 0.006*\"gang\" + 0.006*\"father\"\n",
      "\n",
      "Topic: 5 \n",
      "Words: 0.012*\"police\" + 0.008*\"murder\" + 0.008*\"kill\" + 0.007*\"case\" + 0.006*\"gang\" + 0.006*\"officer\" + 0.006*\"inspector\" + 0.005*\"arrest\" + 0.005*\"crime\" + 0.004*\"prison\"\n",
      "\n",
      "Topic: 6 \n",
      "Words: 0.008*\"nick\" + 0.008*\"steve\" + 0.007*\"michael\" + 0.007*\"gang\" + 0.007*\"kill\" + 0.006*\"steal\" + 0.005*\"money\" + 0.005*\"soul\" + 0.005*\"fight\" + 0.005*\"police\"\n",
      "\n",
      "Topic: 7 \n",
      "Words: 0.014*\"johnny\" + 0.010*\"peter\" + 0.009*\"detective\" + 0.009*\"henry\" + 0.008*\"race\" + 0.008*\"murder\" + 0.007*\"gangster\" + 0.006*\"horse\" + 0.005*\"adventure\" + 0.005*\"killer\"\n",
      "\n",
      "Topic: 8 \n",
      "Words: 0.009*\"film\" + 0.007*\"sing\" + 0.007*\"love\" + 0.006*\"play\" + 0.006*\"story\" + 0.006*\"movie\" + 0.005*\"life\" + 0.005*\"young\" + 0.005*\"dream\" + 0.005*\"music\"\n",
      "\n",
      "Topic: 9 \n",
      "Words: 0.009*\"japanese\" + 0.008*\"soldier\" + 0.007*\"army\" + 0.006*\"russian\" + 0.005*\"north\" + 0.005*\"military\" + 0.005*\"german\" + 0.005*\"kill\" + 0.004*\"general\" + 0.004*\"south\"\n",
      "\n"
     ]
    }
   ],
   "source": [
    "# LDA Multicore model using the tf-idf corpus\n",
    "lda_tfidf = gensim.models.LdaMulticore(corpus_tfidf, num_topics=10, id2word=plots_dict, passes=2, workers=1)\n",
    "\n",
    "for idx, topic in lda_tfidf.print_topics(-1):\n",
    "    print('Topic: {} \\nWords: {}\\n'.format(idx, topic))"
   ]
  },
  {
   "cell_type": "code",
   "execution_count": 32,
   "metadata": {},
   "outputs": [
    {
     "data": {
      "text/plain": [
       "0.44154825620926574"
      ]
     },
     "execution_count": 32,
     "metadata": {},
     "output_type": "execute_result"
    }
   ],
   "source": [
    "# Model measure of performance\n",
    "cm = CoherenceModel(model = lda_tfidf, texts = plots_processed, dictionary = plots_dict)\n",
    "cm.get_coherence()"
   ]
  },
  {
   "cell_type": "code",
   "execution_count": null,
   "metadata": {},
   "outputs": [],
   "source": [
    "# Visualization\n",
    "vis = pyLDAvis.gensim.prepare(lda_tfidf, corpus_tfidf, plots_dict)"
   ]
  },
  {
   "cell_type": "markdown",
   "metadata": {},
   "source": [
    "## Model 2:\n",
    "\n",
    "1. WordNetLemmatizer\n",
    "2. Bag of words\n",
    "3. LDAMulticore"
   ]
  },
  {
   "cell_type": "code",
   "execution_count": 38,
   "metadata": {},
   "outputs": [
    {
     "name": "stdout",
     "output_type": "stream",
     "text": [
      "Topic: 0 \n",
      "Words: 0.019*\"film\" + 0.011*\"work\" + 0.010*\"company\" + 0.009*\"story\" + 0.009*\"singh\" + 0.009*\"sing\" + 0.007*\"minister\" + 0.007*\"people\" + 0.007*\"life\" + 0.007*\"time\"\n",
      "\n",
      "Topic: 1 \n",
      "Words: 0.015*\"kill\" + 0.011*\"body\" + 0.009*\"house\" + 0.008*\"time\" + 0.008*\"leave\" + 0.008*\"find\" + 0.007*\"begin\" + 0.007*\"hospital\" + 0.007*\"take\" + 0.006*\"attack\"\n",
      "\n",
      "Topic: 2 \n",
      "Words: 0.034*\"kill\" + 0.031*\"police\" + 0.017*\"money\" + 0.015*\"gang\" + 0.011*\"murder\" + 0.010*\"arrest\" + 0.010*\"brother\" + 0.009*\"help\" + 0.009*\"take\" + 0.009*\"plan\"\n",
      "\n",
      "Topic: 3 \n",
      "Words: 0.021*\"kill\" + 0.012*\"village\" + 0.012*\"force\" + 0.012*\"attack\" + 0.011*\"army\" + 0.011*\"soldier\" + 0.010*\"escape\" + 0.009*\"fight\" + 0.008*\"order\" + 0.008*\"battle\"\n",
      "\n",
      "Topic: 4 \n",
      "Words: 0.026*\"love\" + 0.019*\"father\" + 0.018*\"marry\" + 0.016*\"family\" + 0.014*\"mother\" + 0.013*\"come\" + 0.011*\"leave\" + 0.011*\"life\" + 0.011*\"live\" + 0.010*\"tell\"\n",
      "\n",
      "Topic: 5 \n",
      "Words: 0.018*\"kill\" + 0.017*\"tell\" + 0.016*\"police\" + 0.012*\"leave\" + 0.012*\"murder\" + 0.010*\"house\" + 0.010*\"reveal\" + 0.010*\"find\" + 0.009*\"room\" + 0.008*\"later\"\n",
      "\n",
      "Topic: 6 \n",
      "Words: 0.029*\"school\" + 0.015*\"play\" + 0.012*\"team\" + 0.011*\"game\" + 0.009*\"students\" + 0.009*\"friends\" + 0.009*\"girls\" + 0.008*\"high\" + 0.008*\"student\" + 0.007*\"time\"\n",
      "\n",
      "Topic: 7 \n",
      "Words: 0.025*\"ship\" + 0.020*\"film\" + 0.019*\"island\" + 0.015*\"earth\" + 0.014*\"crew\" + 0.013*\"boat\" + 0.010*\"captain\" + 0.009*\"space\" + 0.008*\"land\" + 0.008*\"return\"\n",
      "\n",
      "Topic: 8 \n",
      "Words: 0.022*\"king\" + 0.011*\"kill\" + 0.010*\"fight\" + 0.008*\"tell\" + 0.008*\"save\" + 0.008*\"fall\" + 0.008*\"come\" + 0.007*\"take\" + 0.007*\"prince\" + 0.007*\"power\"\n",
      "\n",
      "Topic: 9 \n",
      "Words: 0.020*\"jack\" + 0.018*\"tell\" + 0.014*\"leave\" + 0.012*\"shoot\" + 0.012*\"harry\" + 0.012*\"george\" + 0.011*\"henry\" + 0.011*\"frank\" + 0.010*\"mark\" + 0.008*\"town\"\n",
      "\n"
     ]
    }
   ],
   "source": [
    "# LDA Multicore model using the tf-idf corpus\n",
    "lda_bow = gensim.models.LdaMulticore(bag_of_words, num_topics=10, id2word=plots_dict, passes=2, workers=1)\n",
    "\n",
    "for idx, topic in lda_bow.print_topics(-1):\n",
    "    print('Topic: {} \\nWords: {}\\n'.format(idx, topic))"
   ]
  },
  {
   "cell_type": "code",
   "execution_count": null,
   "metadata": {},
   "outputs": [],
   "source": [
    "# Model measure of performance\n",
    "cm_bow = CoherenceModel(model = lda_bow, texts = plots_processed, dictionary = plots_dict)\n",
    "cm_bow.get_coherence()"
   ]
  },
  {
   "cell_type": "code",
   "execution_count": null,
   "metadata": {},
   "outputs": [],
   "source": [
    "# Visualization\n",
    "vis_bow = pyLDAvis.gensim.prepare(lda_bow, corpus_tfidf, plots_dict)"
   ]
  }
 ],
 "metadata": {
  "kernelspec": {
   "display_name": "Python 3",
   "language": "python",
   "name": "python3"
  },
  "language_info": {
   "codemirror_mode": {
    "name": "ipython",
    "version": 3
   },
   "file_extension": ".py",
   "mimetype": "text/x-python",
   "name": "python",
   "nbconvert_exporter": "python",
   "pygments_lexer": "ipython3",
   "version": "3.7.4"
  }
 },
 "nbformat": 4,
 "nbformat_minor": 2
}
