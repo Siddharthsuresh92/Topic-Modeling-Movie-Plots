{
 "cells": [
  {
   "cell_type": "code",
   "execution_count": 1,
   "metadata": {},
   "outputs": [
    {
     "name": "stderr",
     "output_type": "stream",
     "text": [
      "[nltk_data] Downloading package wordnet to\n",
      "[nltk_data]     /Users/siddharth/nltk_data...\n",
      "[nltk_data]   Package wordnet is already up-to-date!\n"
     ]
    }
   ],
   "source": [
    "# required libraries\n",
    "\n",
    "import pandas as pd\n",
    "import numpy as np\n",
    "from wordcloud import WordCloud\n",
    "import matplotlib.pyplot as plt\n",
    "import seaborn as sns\n",
    "\n",
    "# used for pre-processing the text data and unsupervised topic modeling\n",
    "import gensim\n",
    "from gensim import models\n",
    "from gensim.utils import simple_preprocess\n",
    "from gensim.parsing.preprocessing import STOPWORDS\n",
    "from gensim.corpora import Dictionary\n",
    "\n",
    "# used for natural language processing {NLTK: Natural Language Tool-Kit} \n",
    "from nltk.stem import WordNetLemmatizer, SnowballStemmer, LancasterStemmer\n",
    "from nltk.stem.porter import *\n",
    "import nltk\n",
    "nltk.download('wordnet')\n",
    "\n",
    "# Set a seed to reproduce the results later. Seed used here is '2019'\n",
    "np.random.seed(2019)"
   ]
  },
  {
   "cell_type": "code",
   "execution_count": 12,
   "metadata": {},
   "outputs": [],
   "source": [
    "# initializing the stemmer and lemmatizer\n",
    "#stemmer = LancasterStemmer()\n",
    "lemmatizer = WordNetLemmatizer()"
   ]
  },
  {
   "cell_type": "code",
   "execution_count": 8,
   "metadata": {},
   "outputs": [],
   "source": [
    "pd.set_option('display.max_colwidth', -1)\n",
    "plots = pd.read_csv(\"wiki_movie_plots_deduped.csv\", usecols = [1, 5, 7])"
   ]
  },
  {
   "cell_type": "code",
   "execution_count": 34,
   "metadata": {},
   "outputs": [
    {
     "data": {
      "text/plain": [
       "2265"
      ]
     },
     "execution_count": 34,
     "metadata": {},
     "output_type": "execute_result"
    }
   ],
   "source": [
    "t = plots['Genre'].unique()\n",
    "len(t)"
   ]
  },
  {
   "cell_type": "code",
   "execution_count": 15,
   "metadata": {},
   "outputs": [],
   "source": [
    "# function to lemmatize a given word\n",
    "def lemmatize(text):\n",
    "    return lemmatizer.lemmatize(text, pos = \"v\")\n",
    "\n",
    "\n",
    "# function to preprocess the text\n",
    "def preprocess(text):\n",
    "    result = []\n",
    "    for word in gensim.utils.simple_preprocess(text):\n",
    "        if word not in gensim.parsing.preprocessing.STOPWORDS and len(word) > 3:\n",
    "            l = lemmatize(word)\n",
    "            if len(l) > 3:\n",
    "                result.append(l)\n",
    "    return result"
   ]
  },
  {
   "cell_type": "code",
   "execution_count": 16,
   "metadata": {},
   "outputs": [
    {
     "data": {
      "text/plain": [
       "0        [bartender, work, saloon, serve, drink, customers, fill, stereotypically, irish, bucket, beer, carrie, nation, followers, burst, inside, assault, irish, pull, dump, beer, head, group, begin, wreck, smash, fixtures, mirror, break, cash, register, bartender, spray, seltzer, water, nation, face, group, policemen, appear, order, everybody, leave]                                                                                                                                                                                                                                                                                                                                                                                                                                                                            \n",
       "1        [moon, paint, smile, face, hang, park, night, young, couple, walk, past, fence, learn, rail, look, moon, smile, embrace, moon, smile, bigger, bench, tree, moon, view, block, cause, frown, scene, woman, moon, leave, perch, shoulder, better]                                                                                                                                                                                                                                                                                                                                                                                                                                                                                                                                                                                     \n",
       "2        [film, minute, long, compose, shots, girl, base, altar, tomb, face, hide, camera, center, altar, view, portal, display, portraits, presidents, abraham, lincoln, garfield, william, mckinley, victims, assassination, second, shoot, second, long, assassin, kneel, feet, lady, justice]                                                                                                                                                                                                                                                                                                                                                                                                                                                                                                                                            \n",
       "3        [last, second, consist, shots, shoot, wood, winter, actor, represent, vice, president, theodore, roosevelt, hurry, hillside, tree, foreground, fall, right, cock, rifle, bear, sign, read, photographer, press, agent, respectively, follow, shoot, photographer, camera, teddy, rifle, upward, tree, fell, appear, common, house, proceed, stab, teddy, hold, prize, aloft, press, agent, take, note, second, shoot, take, slightly, different, wood, path, teddy, path, horse, camera, leave, shoot, follow, closely, press, agent, photographer, dutifully, hold, sign]                                                                                                                                                                                                                                                          \n",
       "4        [earliest, know, adaptation, classic, fairytale, film, show, jack, trade, bean, mother, force, drop, yard, beig, force, upstairs, sleep, jack, visit, fairy, show, glimpse, await, ascend, bean, stalk, version, jack, depose, king, jack, wake, find, beanstalk, grow, climb, enter, giant, home, giant, find, jack, narrowly, escape, giant, chase, jack, bean, stalk, jack, able, giant, safety, fall, kill, jack, celebrate, fairy, reveal, jack, return, home, prince]                                                                                                                                                                                                                                                                                                                                                         \n",
       "                                                                                                                                                                                                                                            ...                                                                                                                                                                                                                                                                                                                                                                                                                                                                                                                                                                                              \n",
       "34881    [film, begin, world, centre, joshua, connor, russell, crowe, australian, farmer, water, diviner, sons, arthur, ryan, corr, edward, fraser, henry, toole, serve, australian, zealand, army, corps, anzac, military, campaign, gallipoli, years, previously, presume, dead, wife, eliza, jacqueline, mckenzie, commit, suicide, grief, joshua, resolve, bring, sons, body, home, bury, mother, joshua, travel, turkey, stay, hotel, istanbul, widow, ayshe, olga, kurylenko, unable, travel, gallipoli, road, learn, purpose, journey, ayshe, tell, bribe, local, fisherman, travel, gallipoli, boat, arrive, joshua, learn, anzacs, engage, mass, burial, civilians, major, hasan, yılmaz, erdoğan, turkish, officer, assist, anzacs, persuade, anzac, captain, cyril, hughes, courtney, prioritize, help, joshua, search, find, ...]\n",
       "34882    [musicians, salih, gürkan, describe, adventure, cousins]                                                                                                                                                                                                                                                                                                                                                                                                                                                                                                                                                                                                                                                                                                                                                                            \n",
       "34883    [zafer, sailor, live, mother, döndü, coastal, village, izmir, separate, girlfriend, mehtap, father, sailor, döndü, friend, fahriye, help, zafer, marry, family, famous, talented, actress, aslı, surprisingly, attend, zafer, boat, tour, asli, zafer, know]                                                                                                                                                                                                                                                                                                                                                                                                                                                                                                                                                                        \n",
       "34884    [film, centre, young, woman, name, tyler, book, surprise, holiday, europe, boyfriend, josh, merit, separate, able, trip, advertise, ticket, online, search, identical, boyfriend, tour, instead, story, write, bore, similarities, case, year, toronto, name, jordan, axani, offer, free, ticket, reddit, girl, name, elizabeth, gallagher, break, girlfriend, ticket, strict, transfer, policy, passport, information, require, book, ticket, buzzfeed, article, story, viral, script, give, life, brendan, bradley, write, script, years, bradley, tell, happen, unrealistic, project, traction, think, premise, crazy, happen, real, life]                                                                                                                                                                                       \n",
       "34885    [writer, orhan, şahin, return, stanbul, years, help, know, director, deniz, soysal, write, novel, orhan, find, look, nostalgia, place, bear, raise, relive, relationships, friends, family, past, love]                                                                                                                                                                                                                                                                                                                                                                                                                                                                                                                                                                                                                             \n",
       "Name: Plot, Length: 34886, dtype: object"
      ]
     },
     "execution_count": 16,
     "metadata": {},
     "output_type": "execute_result"
    }
   ],
   "source": [
    "plots_processed = plots['Plot'].map(preprocess)\n",
    "plots_processed"
   ]
  },
  {
   "cell_type": "code",
   "execution_count": 17,
   "metadata": {},
   "outputs": [],
   "source": [
    "plots_dict = Dictionary(plots_processed)"
   ]
  },
  {
   "cell_type": "code",
   "execution_count": 18,
   "metadata": {},
   "outputs": [
    {
     "data": {
      "text/plain": [
       "115205"
      ]
     },
     "execution_count": 18,
     "metadata": {},
     "output_type": "execute_result"
    }
   ],
   "source": [
    "len(plots_dict)"
   ]
  },
  {
   "cell_type": "code",
   "execution_count": 27,
   "metadata": {},
   "outputs": [
    {
     "data": {
      "text/plain": [
       "1457"
      ]
     },
     "execution_count": 27,
     "metadata": {},
     "output_type": "execute_result"
    }
   ],
   "source": [
    "plots_dict.filter_extremes(no_below = 500, no_above = 0.5)\n",
    "len(plots_dict)"
   ]
  },
  {
   "cell_type": "code",
   "execution_count": 28,
   "metadata": {},
   "outputs": [],
   "source": [
    "bag_of_words = [plots_dict.doc2bow(plot) for plot in plots_processed]"
   ]
  },
  {
   "cell_type": "code",
   "execution_count": 29,
   "metadata": {},
   "outputs": [],
   "source": [
    "tfidf = models.TfidfModel(bag_of_words)\n",
    "corpus_tfidf = tfidf[bag_of_words]"
   ]
  },
  {
   "cell_type": "code",
   "execution_count": 30,
   "metadata": {},
   "outputs": [],
   "source": [
    "# LDA model using the tf-idf corpus\n",
    "\n",
    "lda_tfidf = gensim.models.LdaMulticore(corpus_tfidf, num_topics=10, id2word=plots_dict, passes=2, workers=1)"
   ]
  },
  {
   "cell_type": "code",
   "execution_count": 35,
   "metadata": {},
   "outputs": [
    {
     "name": "stdout",
     "output_type": "stream",
     "text": [
      "Topic: 0 \n",
      "Words: 0.008*\"japanese\" + 0.006*\"singh\" + 0.006*\"army\" + 0.006*\"soldier\" + 0.006*\"kill\" + 0.005*\"russian\" + 0.004*\"officer\" + 0.004*\"military\" + 0.004*\"bomb\" + 0.004*\"government\"\n",
      "\n",
      "Topic: 1 \n",
      "Words: 0.013*\"love\" + 0.012*\"story\" + 0.011*\"family\" + 0.010*\"marry\" + 0.009*\"village\" + 0.009*\"rich\" + 0.009*\"revolve\" + 0.008*\"money\" + 0.007*\"fall\" + 0.007*\"young\"\n",
      "\n",
      "Topic: 2 \n",
      "Words: 0.014*\"police\" + 0.011*\"murder\" + 0.009*\"kill\" + 0.008*\"case\" + 0.008*\"gang\" + 0.007*\"inspector\" + 0.007*\"officer\" + 0.005*\"crime\" + 0.005*\"arrest\" + 0.005*\"killer\"\n",
      "\n",
      "Topic: 3 \n",
      "Words: 0.021*\"steve\" + 0.021*\"race\" + 0.016*\"arthur\" + 0.014*\"horse\" + 0.011*\"thomas\" + 0.010*\"mary\" + 0.009*\"driver\" + 0.008*\"scott\" + 0.006*\"mark\" + 0.006*\"aircraft\"\n",
      "\n",
      "Topic: 4 \n",
      "Words: 0.041*\"johnny\" + 0.034*\"harry\" + 0.032*\"nick\" + 0.025*\"peter\" + 0.008*\"prison\" + 0.006*\"violent\" + 0.005*\"sheriff\" + 0.005*\"money\" + 0.005*\"frank\" + 0.005*\"kill\"\n",
      "\n",
      "Topic: 5 \n",
      "Words: 0.005*\"kill\" + 0.005*\"earth\" + 0.005*\"ghost\" + 0.004*\"power\" + 0.004*\"body\" + 0.004*\"attack\" + 0.004*\"island\" + 0.003*\"group\" + 0.003*\"destroy\" + 0.003*\"spirit\"\n",
      "\n",
      "Topic: 6 \n",
      "Words: 0.009*\"love\" + 0.008*\"marry\" + 0.007*\"father\" + 0.007*\"family\" + 0.007*\"village\" + 0.007*\"mother\" + 0.006*\"marriage\" + 0.005*\"daughter\" + 0.005*\"girl\" + 0.005*\"live\"\n",
      "\n",
      "Topic: 7 \n",
      "Words: 0.016*\"king\" + 0.015*\"film\" + 0.008*\"story\" + 0.008*\"prince\" + 0.007*\"kingdom\" + 0.007*\"princess\" + 0.006*\"movie\" + 0.006*\"play\" + 0.005*\"life\" + 0.005*\"role\"\n",
      "\n",
      "Topic: 8 \n",
      "Words: 0.006*\"money\" + 0.005*\"tell\" + 0.005*\"hotel\" + 0.005*\"apartment\" + 0.005*\"police\" + 0.004*\"michael\" + 0.004*\"sing\" + 0.004*\"phone\" + 0.004*\"gang\" + 0.004*\"park\"\n",
      "\n",
      "Topic: 9 \n",
      "Words: 0.021*\"school\" + 0.014*\"team\" + 0.013*\"students\" + 0.011*\"student\" + 0.011*\"game\" + 0.010*\"high\" + 0.009*\"teacher\" + 0.008*\"coach\" + 0.007*\"player\" + 0.007*\"competition\"\n",
      "\n"
     ]
    }
   ],
   "source": [
    "for idx, topic in lda_tfidf.print_topics(-1):\n",
    "    print('Topic: {} \\nWords: {}\\n'.format(idx, topic))"
   ]
  },
  {
   "cell_type": "code",
   "execution_count": null,
   "metadata": {},
   "outputs": [],
   "source": []
  }
 ],
 "metadata": {
  "kernelspec": {
   "display_name": "Python 3",
   "language": "python",
   "name": "python3"
  },
  "language_info": {
   "codemirror_mode": {
    "name": "ipython",
    "version": 3
   },
   "file_extension": ".py",
   "mimetype": "text/x-python",
   "name": "python",
   "nbconvert_exporter": "python",
   "pygments_lexer": "ipython3",
   "version": "3.7.4"
  }
 },
 "nbformat": 4,
 "nbformat_minor": 2
}
